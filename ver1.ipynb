{
 "cells": [
  {
   "cell_type": "code",
   "execution_count": 12,
   "id": "f3fddeed-4d23-40b2-91a9-3e5efbd94fc8",
   "metadata": {},
   "outputs": [],
   "source": [
    "import numpy as np\n",
    "import pandas as pd\n",
    "import os\n",
    "from datetime import datetime, timedelta\n",
    "#03-05-2015 06:00:05\n",
    "#18-09-2015 05:59:48\n",
    "'''qcat разобраться, использовать для разделения. Попытаться посчитать и R и F в рамках одной сортировки groupby'''\n",
    "\n",
    "df_events = pd.read_csv('D:\\Питон\\Project X\\Data sets\\events.csv')"
   ]
  },
  {
   "cell_type": "code",
   "execution_count": 13,
   "id": "ff7bff66-601c-4e64-93d6-7cb100b10f88",
   "metadata": {},
   "outputs": [],
   "source": [
    "def rfm_score(df_events):\n",
    "    df_with_uniq_id = (df_events[~df_events['transactionid'].isna()]    #убарает строки без покупок, фильтрует по времени,\n",
    "                       .sort_values('timestamp', ascending=False)       #по убыванию, оставляет уникальные ID с последними покупками\n",
    "                       .drop_duplicates('visitorid', keep='first'))\n",
    "    step_for_r = int(df_with_uniq_id['visitorid'].count() * 0.2)        #20% шаг по кол-ву уникальных ID\n",
    "    list_id = df_with_uniq_id['visitorid'].to_list()                    #список всех ID\n",
    "    list_r = [r for r in range(5,0,-1) for l in range(step_for_r)]      #список оценок по давности покупки\n",
    "    \n",
    "    df_counts_by_id = (df_events[~df_events['transactionid']\n",
    "                       .isna()].groupby('visitorid').count())            #кол-во событий у каждого ID выкинуть !выкинуть строки без покупок!\n",
    "    top_num_of_trans = max(df_counts_by_id['transactionid'])            #Максимальное значение покупок\n",
    "    step_for_f = top_num_of_trans * 0.2                                 #20% шаг по кол-ву покупок\n",
    "    list_f = []                                                         #список оценок по кол-ву покупок\n",
    "    for id in list_id:                                                  #цикл для выставления оценок\n",
    "        num_trans = df_counts_by_id.loc[id]['transactionid']            #кол-во покупок по пользователю\n",
    "        if top_num_of_trans >= num_trans > (top_num_of_trans - step_for_f):\n",
    "             list_f.append(5)\n",
    "        elif (top_num_of_trans - step_for_f) >= num_trans > (top_num_of_trans - step_for_f * 2):\n",
    "             list_f.append(4)\n",
    "        elif (top_num_of_trans - step_for_f * 2) >= num_trans > (top_num_of_trans - step_for_f * 3):\n",
    "             list_f.append(3)\n",
    "        elif (top_num_of_trans - step_for_f * 3) >= num_trans > (top_num_of_trans - step_for_f * 4):\n",
    "             list_f.append(2)\n",
    "        elif (top_num_of_trans - step_for_f * 4) >= num_trans >= 0:\n",
    "             list_f.append(1)\n",
    "    \n",
    "    if len(list_r) < len(list_id):                                     #на случай если кол-во пользователей не кратно 5 и длинна list_r\n",
    "        for i in range(len(list_id) - len(list_r)):                    #меньше длинны list_id\n",
    "            list_r.append(1)\n",
    "    \n",
    "    return list_id, list_r, list_f\n",
    "\n",
    "a = rfm_score(df_events)"
   ]
  },
  {
   "cell_type": "code",
   "execution_count": 14,
   "id": "b45d2406-efb6-4a47-bdac-541d4e125f98",
   "metadata": {
    "scrolled": true
   },
   "outputs": [
    {
     "data": {
      "text/plain": [
       "F Score\n",
       "1    11707\n",
       "2        9\n",
       "4        1\n",
       "5        1\n",
       "3        1\n",
       "Name: count, dtype: int64"
      ]
     },
     "execution_count": 14,
     "metadata": {},
     "output_type": "execute_result"
    }
   ],
   "source": [
    "df_rfm = pd.DataFrame({'VisitorID': a[0], 'R Score': a[1], 'F Score': a[2]})\n",
    "df_rfm['F Score'].value_counts()"
   ]
  },
  {
   "cell_type": "code",
   "execution_count": 11,
   "id": "cc3581c4-2c57-4c7e-b41c-981308172455",
   "metadata": {},
   "outputs": [
    {
     "name": "stdout",
     "output_type": "stream",
     "text": [
      "<class 'pandas.core.frame.DataFrame'>\n",
      "Index: 11719 entries, 1150086 to 1407398\n",
      "Data columns (total 4 columns):\n",
      " #   Column         Non-Null Count  Dtype\n",
      "---  ------         --------------  -----\n",
      " 0   timestamp      11719 non-null  int64\n",
      " 1   event          11719 non-null  int64\n",
      " 2   itemid         11719 non-null  int64\n",
      " 3   transactionid  11719 non-null  int64\n",
      "dtypes: int64(4)\n",
      "memory usage: 457.8 KB\n"
     ]
    }
   ],
   "source": [
    "df_events[~df_events['transactionid'].isna()].groupby('visitorid').count().sort_values('transactionid', ascending=False).info()"
   ]
  },
  {
   "cell_type": "code",
   "execution_count": null,
   "id": "5f2c33de-69fc-4682-9253-036f349d47bb",
   "metadata": {},
   "outputs": [],
   "source": []
  }
 ],
 "metadata": {
  "kernelspec": {
   "display_name": "Python 3 (ipykernel)",
   "language": "python",
   "name": "python3"
  },
  "language_info": {
   "codemirror_mode": {
    "name": "ipython",
    "version": 3
   },
   "file_extension": ".py",
   "mimetype": "text/x-python",
   "name": "python",
   "nbconvert_exporter": "python",
   "pygments_lexer": "ipython3",
   "version": "3.11.7"
  }
 },
 "nbformat": 4,
 "nbformat_minor": 5
}
